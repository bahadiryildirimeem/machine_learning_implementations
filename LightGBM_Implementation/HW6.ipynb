{
  "nbformat": 4,
  "nbformat_minor": 0,
  "metadata": {
    "colab": {
      "name": "Bahadir_YILDIRIM_HW6.ipynb",
      "provenance": []
    },
    "kernelspec": {
      "name": "python3",
      "display_name": "Python 3"
    },
    "language_info": {
      "name": "python"
    },
    "accelerator": "TPU"
  },
  "cells": [
    {
      "cell_type": "code",
      "execution_count": 106,
      "metadata": {
        "id": "nVWowQ8E-hJi"
      },
      "outputs": [],
      "source": [
        "import pandas as pd\n",
        "import os\n",
        "import numpy as np\n",
        "import glob\n",
        "import lightgbm as lgb\n",
        "import pathlib\n",
        "import matplotlib.pyplot as plt\n",
        "import seaborn as sns\n",
        "from sklearn.model_selection import train_test_split"
      ]
    },
    {
      "cell_type": "markdown",
      "source": [
        "Reading and Processing CSV File"
      ],
      "metadata": {
        "id": "cM76cpciaTRC"
      }
    },
    {
      "cell_type": "code",
      "source": [
        "df = pd.read_csv ('Catalogue.csv', encoding='latin-1')\n",
        "dfProcessed = pd.DataFrame(df, columns = ['Zaman (UTC)', 'Enlem', 'Boylam', 'Derinlik', 'Büyüklük'])\n",
        "dfProcessed['Ay'] = pd.DatetimeIndex(df['Zaman (UTC)']).month\n",
        "dfProcessed = dfProcessed.drop(columns=\"Zaman (UTC)\")\n",
        "dfProcessed = dfProcessed[['Enlem', 'Boylam', 'Ay', 'Derinlik', 'Büyüklük']]\n",
        "print(dfProcessed)\n"
      ],
      "metadata": {
        "colab": {
          "base_uri": "https://localhost:8080/"
        },
        "id": "v3H8_ukM-vKm",
        "outputId": "4d299ada-525a-44fd-dca9-e60b8f557734"
      },
      "execution_count": 107,
      "outputs": [
        {
          "output_type": "stream",
          "name": "stdout",
          "text": [
            "         Enlem   Boylam  Ay  Derinlik  Büyüklük\n",
            "0      35.7380  24.8870   6     37.50       4.0\n",
            "1      36.4261  27.0918   6     18.97       4.1\n",
            "2      36.4461  27.1643   6     11.09       4.1\n",
            "3      37.5625  36.1321   6     14.37       4.2\n",
            "4      35.3220  32.8156   5     25.63       4.3\n",
            "...        ...      ...  ..       ...       ...\n",
            "12196  38.1200  31.2900   2     10.00       5.7\n",
            "12197  37.8300  27.7100   1     10.00       4.4\n",
            "12198  37.6300  37.3700   1     10.00       4.8\n",
            "12199  39.5400  26.1400   1     10.00       5.2\n",
            "12200  37.7900  28.2100   1     10.00       4.4\n",
            "\n",
            "[12201 rows x 5 columns]\n"
          ]
        }
      ]
    },
    {
      "cell_type": "markdown",
      "source": [
        "Dividing Data into 3 pieces as Train, Validation and Test data"
      ],
      "metadata": {
        "id": "ii0nTqgRaYjl"
      }
    },
    {
      "cell_type": "code",
      "source": [
        "r, c = dfProcessed.shape\n",
        "print(r)\n",
        "trainSize = int(0.7 * r)\n",
        "validSize = int(0.1 * r)\n",
        "trainLastIndex = trainSize\n",
        "validLastIndex = trainLastIndex + validSize\n",
        "dfTrain = dfProcessed.iloc[:trainLastIndex]\n",
        "dfValid = dfProcessed.iloc[trainLastIndex+1:validLastIndex]\n",
        "dfTest = dfProcessed.iloc[validLastIndex+1:]"
      ],
      "metadata": {
        "colab": {
          "base_uri": "https://localhost:8080/"
        },
        "id": "MzxrTZHwR1zJ",
        "outputId": "9c12fd32-30de-485b-e298-bcdfe9007c15"
      },
      "execution_count": 108,
      "outputs": [
        {
          "output_type": "stream",
          "name": "stdout",
          "text": [
            "12201\n"
          ]
        }
      ]
    },
    {
      "cell_type": "code",
      "source": [
        "dfTrainFeature = dfTrain.drop(columns=\"Büyüklük\")\n",
        "dfTrainTarget = dfTrain[['Büyüklük']]\n",
        "\n",
        "dfValidFeature = dfValid.drop(columns=\"Büyüklük\")\n",
        "dfValidTarget = dfValid[['Büyüklük']]\n",
        "\n",
        "dfTestFeature = dfTest.drop(columns=\"Büyüklük\")\n",
        "dfTestTarget = dfTest[['Büyüklük']]"
      ],
      "metadata": {
        "id": "uQGpS_vWYWC5"
      },
      "execution_count": 109,
      "outputs": []
    },
    {
      "cell_type": "markdown",
      "source": [
        "Setting Parameters of Model"
      ],
      "metadata": {
        "id": "E8Pl1I8OZ936"
      }
    },
    {
      "cell_type": "code",
      "source": [
        "train_data = lgb.Dataset(dfTrainFeature, label=dfTrainTarget)\n",
        "valid_data = lgb.Dataset(dfValidFeature, label=dfValidTarget)\n",
        "\n",
        "parameters = {'objective': 'regression',\n",
        "              'metric': 'root_mean_squared_error',\n",
        "              'boosting': 'gbdt',\n",
        "              'num_leaves': 63,\n",
        "              'bagging_freq': 20,\n",
        "              'learning_rate': 0.01,\n",
        "              'verbose': -1\n",
        "             }"
      ],
      "metadata": {
        "id": "8RCEMXdyLyYi"
      },
      "execution_count": 110,
      "outputs": []
    },
    {
      "cell_type": "markdown",
      "source": [
        "Creating Model ve Training"
      ],
      "metadata": {
        "id": "Ep2JwVAjaAyl"
      }
    },
    {
      "cell_type": "code",
      "source": [
        "model_lgbm = lgb.train(parameters,\n",
        "                            train_data,\n",
        "                            valid_sets=valid_data,\n",
        "                            num_boost_round=1000,\n",
        "                            early_stopping_rounds=50)"
      ],
      "metadata": {
        "colab": {
          "base_uri": "https://localhost:8080/"
        },
        "id": "LY4fb4pnRKcI",
        "outputId": "7583edad-9299-47c2-f1bc-7de6bd724774"
      },
      "execution_count": 111,
      "outputs": [
        {
          "output_type": "stream",
          "name": "stdout",
          "text": [
            "[1]\tvalid_0's rmse: 0.395667\n",
            "Training until validation scores don't improve for 50 rounds.\n",
            "[2]\tvalid_0's rmse: 0.395405\n",
            "[3]\tvalid_0's rmse: 0.395146\n",
            "[4]\tvalid_0's rmse: 0.394905\n",
            "[5]\tvalid_0's rmse: 0.394663\n",
            "[6]\tvalid_0's rmse: 0.394433\n",
            "[7]\tvalid_0's rmse: 0.394215\n",
            "[8]\tvalid_0's rmse: 0.394043\n",
            "[9]\tvalid_0's rmse: 0.393858\n",
            "[10]\tvalid_0's rmse: 0.393694\n",
            "[11]\tvalid_0's rmse: 0.393539\n",
            "[12]\tvalid_0's rmse: 0.393349\n",
            "[13]\tvalid_0's rmse: 0.3932\n",
            "[14]\tvalid_0's rmse: 0.393059\n",
            "[15]\tvalid_0's rmse: 0.392932\n",
            "[16]\tvalid_0's rmse: 0.392753\n",
            "[17]\tvalid_0's rmse: 0.392633\n",
            "[18]\tvalid_0's rmse: 0.392451\n",
            "[19]\tvalid_0's rmse: 0.392316\n",
            "[20]\tvalid_0's rmse: 0.392177\n",
            "[21]\tvalid_0's rmse: 0.392019\n",
            "[22]\tvalid_0's rmse: 0.391889\n",
            "[23]\tvalid_0's rmse: 0.391746\n",
            "[24]\tvalid_0's rmse: 0.391625\n",
            "[25]\tvalid_0's rmse: 0.391507\n",
            "[26]\tvalid_0's rmse: 0.391361\n",
            "[27]\tvalid_0's rmse: 0.391247\n",
            "[28]\tvalid_0's rmse: 0.391109\n",
            "[29]\tvalid_0's rmse: 0.391026\n",
            "[30]\tvalid_0's rmse: 0.390928\n",
            "[31]\tvalid_0's rmse: 0.39078\n",
            "[32]\tvalid_0's rmse: 0.390708\n",
            "[33]\tvalid_0's rmse: 0.390595\n",
            "[34]\tvalid_0's rmse: 0.390459\n",
            "[35]\tvalid_0's rmse: 0.39036\n",
            "[36]\tvalid_0's rmse: 0.39024\n",
            "[37]\tvalid_0's rmse: 0.390157\n",
            "[38]\tvalid_0's rmse: 0.390081\n",
            "[39]\tvalid_0's rmse: 0.390013\n",
            "[40]\tvalid_0's rmse: 0.389915\n",
            "[41]\tvalid_0's rmse: 0.389847\n",
            "[42]\tvalid_0's rmse: 0.389816\n",
            "[43]\tvalid_0's rmse: 0.389747\n",
            "[44]\tvalid_0's rmse: 0.389696\n",
            "[45]\tvalid_0's rmse: 0.38963\n",
            "[46]\tvalid_0's rmse: 0.38957\n",
            "[47]\tvalid_0's rmse: 0.389511\n",
            "[48]\tvalid_0's rmse: 0.389355\n",
            "[49]\tvalid_0's rmse: 0.3893\n",
            "[50]\tvalid_0's rmse: 0.389244\n",
            "[51]\tvalid_0's rmse: 0.389131\n",
            "[52]\tvalid_0's rmse: 0.389012\n",
            "[53]\tvalid_0's rmse: 0.388983\n",
            "[54]\tvalid_0's rmse: 0.38892\n",
            "[55]\tvalid_0's rmse: 0.388875\n",
            "[56]\tvalid_0's rmse: 0.388713\n",
            "[57]\tvalid_0's rmse: 0.388664\n",
            "[58]\tvalid_0's rmse: 0.388648\n",
            "[59]\tvalid_0's rmse: 0.388553\n",
            "[60]\tvalid_0's rmse: 0.388476\n",
            "[61]\tvalid_0's rmse: 0.388431\n",
            "[62]\tvalid_0's rmse: 0.388358\n",
            "[63]\tvalid_0's rmse: 0.388282\n",
            "[64]\tvalid_0's rmse: 0.388203\n",
            "[65]\tvalid_0's rmse: 0.388077\n",
            "[66]\tvalid_0's rmse: 0.388009\n",
            "[67]\tvalid_0's rmse: 0.387985\n",
            "[68]\tvalid_0's rmse: 0.387962\n",
            "[69]\tvalid_0's rmse: 0.387918\n",
            "[70]\tvalid_0's rmse: 0.387881\n",
            "[71]\tvalid_0's rmse: 0.387815\n",
            "[72]\tvalid_0's rmse: 0.387786\n",
            "[73]\tvalid_0's rmse: 0.387653\n",
            "[74]\tvalid_0's rmse: 0.387648\n",
            "[75]\tvalid_0's rmse: 0.387621\n",
            "[76]\tvalid_0's rmse: 0.387588\n",
            "[77]\tvalid_0's rmse: 0.38755\n",
            "[78]\tvalid_0's rmse: 0.387515\n",
            "[79]\tvalid_0's rmse: 0.387463\n",
            "[80]\tvalid_0's rmse: 0.387427\n",
            "[81]\tvalid_0's rmse: 0.387366\n",
            "[82]\tvalid_0's rmse: 0.387358\n",
            "[83]\tvalid_0's rmse: 0.387321\n",
            "[84]\tvalid_0's rmse: 0.387334\n",
            "[85]\tvalid_0's rmse: 0.387276\n",
            "[86]\tvalid_0's rmse: 0.387277\n",
            "[87]\tvalid_0's rmse: 0.387254\n",
            "[88]\tvalid_0's rmse: 0.38726\n",
            "[89]\tvalid_0's rmse: 0.387238\n",
            "[90]\tvalid_0's rmse: 0.387239\n",
            "[91]\tvalid_0's rmse: 0.387167\n",
            "[92]\tvalid_0's rmse: 0.387193\n",
            "[93]\tvalid_0's rmse: 0.387222\n",
            "[94]\tvalid_0's rmse: 0.387243\n",
            "[95]\tvalid_0's rmse: 0.387225\n",
            "[96]\tvalid_0's rmse: 0.38725\n",
            "[97]\tvalid_0's rmse: 0.387235\n",
            "[98]\tvalid_0's rmse: 0.387254\n",
            "[99]\tvalid_0's rmse: 0.38727\n",
            "[100]\tvalid_0's rmse: 0.387258\n",
            "[101]\tvalid_0's rmse: 0.387258\n",
            "[102]\tvalid_0's rmse: 0.387232\n",
            "[103]\tvalid_0's rmse: 0.387249\n",
            "[104]\tvalid_0's rmse: 0.387217\n",
            "[105]\tvalid_0's rmse: 0.387183\n",
            "[106]\tvalid_0's rmse: 0.387148\n",
            "[107]\tvalid_0's rmse: 0.387112\n",
            "[108]\tvalid_0's rmse: 0.387082\n",
            "[109]\tvalid_0's rmse: 0.386971\n",
            "[110]\tvalid_0's rmse: 0.386938\n",
            "[111]\tvalid_0's rmse: 0.386949\n",
            "[112]\tvalid_0's rmse: 0.386899\n",
            "[113]\tvalid_0's rmse: 0.386873\n",
            "[114]\tvalid_0's rmse: 0.386822\n",
            "[115]\tvalid_0's rmse: 0.386777\n",
            "[116]\tvalid_0's rmse: 0.386792\n",
            "[117]\tvalid_0's rmse: 0.386746\n",
            "[118]\tvalid_0's rmse: 0.386715\n",
            "[119]\tvalid_0's rmse: 0.386669\n",
            "[120]\tvalid_0's rmse: 0.386601\n",
            "[121]\tvalid_0's rmse: 0.386649\n",
            "[122]\tvalid_0's rmse: 0.386504\n",
            "[123]\tvalid_0's rmse: 0.386561\n",
            "[124]\tvalid_0's rmse: 0.386579\n",
            "[125]\tvalid_0's rmse: 0.38654\n",
            "[126]\tvalid_0's rmse: 0.386567\n",
            "[127]\tvalid_0's rmse: 0.386539\n",
            "[128]\tvalid_0's rmse: 0.386398\n",
            "[129]\tvalid_0's rmse: 0.386353\n",
            "[130]\tvalid_0's rmse: 0.386396\n",
            "[131]\tvalid_0's rmse: 0.386343\n",
            "[132]\tvalid_0's rmse: 0.386317\n",
            "[133]\tvalid_0's rmse: 0.38621\n",
            "[134]\tvalid_0's rmse: 0.386152\n",
            "[135]\tvalid_0's rmse: 0.386098\n",
            "[136]\tvalid_0's rmse: 0.386137\n",
            "[137]\tvalid_0's rmse: 0.386067\n",
            "[138]\tvalid_0's rmse: 0.38605\n",
            "[139]\tvalid_0's rmse: 0.386019\n",
            "[140]\tvalid_0's rmse: 0.386001\n",
            "[141]\tvalid_0's rmse: 0.385962\n",
            "[142]\tvalid_0's rmse: 0.385946\n",
            "[143]\tvalid_0's rmse: 0.385896\n",
            "[144]\tvalid_0's rmse: 0.385838\n",
            "[145]\tvalid_0's rmse: 0.385842\n",
            "[146]\tvalid_0's rmse: 0.385809\n",
            "[147]\tvalid_0's rmse: 0.385829\n",
            "[148]\tvalid_0's rmse: 0.385775\n",
            "[149]\tvalid_0's rmse: 0.385792\n",
            "[150]\tvalid_0's rmse: 0.385799\n",
            "[151]\tvalid_0's rmse: 0.385779\n",
            "[152]\tvalid_0's rmse: 0.385747\n",
            "[153]\tvalid_0's rmse: 0.385769\n",
            "[154]\tvalid_0's rmse: 0.385766\n",
            "[155]\tvalid_0's rmse: 0.385743\n",
            "[156]\tvalid_0's rmse: 0.38576\n",
            "[157]\tvalid_0's rmse: 0.38574\n",
            "[158]\tvalid_0's rmse: 0.385713\n",
            "[159]\tvalid_0's rmse: 0.385695\n",
            "[160]\tvalid_0's rmse: 0.385694\n",
            "[161]\tvalid_0's rmse: 0.385703\n",
            "[162]\tvalid_0's rmse: 0.38575\n",
            "[163]\tvalid_0's rmse: 0.385738\n",
            "[164]\tvalid_0's rmse: 0.385737\n",
            "[165]\tvalid_0's rmse: 0.385715\n",
            "[166]\tvalid_0's rmse: 0.385728\n",
            "[167]\tvalid_0's rmse: 0.385698\n",
            "[168]\tvalid_0's rmse: 0.385704\n",
            "[169]\tvalid_0's rmse: 0.38569\n",
            "[170]\tvalid_0's rmse: 0.385708\n",
            "[171]\tvalid_0's rmse: 0.385698\n",
            "[172]\tvalid_0's rmse: 0.385648\n",
            "[173]\tvalid_0's rmse: 0.385629\n",
            "[174]\tvalid_0's rmse: 0.385618\n",
            "[175]\tvalid_0's rmse: 0.38561\n",
            "[176]\tvalid_0's rmse: 0.385592\n",
            "[177]\tvalid_0's rmse: 0.385567\n",
            "[178]\tvalid_0's rmse: 0.385592\n",
            "[179]\tvalid_0's rmse: 0.385581\n",
            "[180]\tvalid_0's rmse: 0.385526\n",
            "[181]\tvalid_0's rmse: 0.385515\n",
            "[182]\tvalid_0's rmse: 0.385503\n",
            "[183]\tvalid_0's rmse: 0.385494\n",
            "[184]\tvalid_0's rmse: 0.385519\n",
            "[185]\tvalid_0's rmse: 0.38551\n",
            "[186]\tvalid_0's rmse: 0.385453\n",
            "[187]\tvalid_0's rmse: 0.385452\n",
            "[188]\tvalid_0's rmse: 0.385439\n",
            "[189]\tvalid_0's rmse: 0.385428\n",
            "[190]\tvalid_0's rmse: 0.385394\n",
            "[191]\tvalid_0's rmse: 0.385368\n",
            "[192]\tvalid_0's rmse: 0.385353\n",
            "[193]\tvalid_0's rmse: 0.38534\n",
            "[194]\tvalid_0's rmse: 0.385328\n",
            "[195]\tvalid_0's rmse: 0.385327\n",
            "[196]\tvalid_0's rmse: 0.38535\n",
            "[197]\tvalid_0's rmse: 0.385331\n",
            "[198]\tvalid_0's rmse: 0.385299\n",
            "[199]\tvalid_0's rmse: 0.385285\n",
            "[200]\tvalid_0's rmse: 0.385324\n",
            "[201]\tvalid_0's rmse: 0.385316\n",
            "[202]\tvalid_0's rmse: 0.385287\n",
            "[203]\tvalid_0's rmse: 0.385248\n",
            "[204]\tvalid_0's rmse: 0.385174\n",
            "[205]\tvalid_0's rmse: 0.385167\n",
            "[206]\tvalid_0's rmse: 0.385136\n",
            "[207]\tvalid_0's rmse: 0.385178\n",
            "[208]\tvalid_0's rmse: 0.385192\n",
            "[209]\tvalid_0's rmse: 0.385208\n",
            "[210]\tvalid_0's rmse: 0.385186\n",
            "[211]\tvalid_0's rmse: 0.385186\n",
            "[212]\tvalid_0's rmse: 0.385165\n",
            "[213]\tvalid_0's rmse: 0.385174\n",
            "[214]\tvalid_0's rmse: 0.385188\n",
            "[215]\tvalid_0's rmse: 0.3852\n",
            "[216]\tvalid_0's rmse: 0.385191\n",
            "[217]\tvalid_0's rmse: 0.38519\n",
            "[218]\tvalid_0's rmse: 0.385173\n",
            "[219]\tvalid_0's rmse: 0.385184\n",
            "[220]\tvalid_0's rmse: 0.385173\n",
            "[221]\tvalid_0's rmse: 0.385187\n",
            "[222]\tvalid_0's rmse: 0.385175\n",
            "[223]\tvalid_0's rmse: 0.385098\n",
            "[224]\tvalid_0's rmse: 0.385113\n",
            "[225]\tvalid_0's rmse: 0.385127\n",
            "[226]\tvalid_0's rmse: 0.385095\n",
            "[227]\tvalid_0's rmse: 0.385047\n",
            "[228]\tvalid_0's rmse: 0.385061\n",
            "[229]\tvalid_0's rmse: 0.385054\n",
            "[230]\tvalid_0's rmse: 0.385084\n",
            "[231]\tvalid_0's rmse: 0.385039\n",
            "[232]\tvalid_0's rmse: 0.385043\n",
            "[233]\tvalid_0's rmse: 0.384999\n",
            "[234]\tvalid_0's rmse: 0.384994\n",
            "[235]\tvalid_0's rmse: 0.385007\n",
            "[236]\tvalid_0's rmse: 0.384975\n",
            "[237]\tvalid_0's rmse: 0.384989\n",
            "[238]\tvalid_0's rmse: 0.385004\n",
            "[239]\tvalid_0's rmse: 0.385001\n",
            "[240]\tvalid_0's rmse: 0.385012\n",
            "[241]\tvalid_0's rmse: 0.385029\n",
            "[242]\tvalid_0's rmse: 0.385042\n",
            "[243]\tvalid_0's rmse: 0.385037\n",
            "[244]\tvalid_0's rmse: 0.385051\n",
            "[245]\tvalid_0's rmse: 0.385063\n",
            "[246]\tvalid_0's rmse: 0.385065\n",
            "[247]\tvalid_0's rmse: 0.385073\n",
            "[248]\tvalid_0's rmse: 0.385107\n",
            "[249]\tvalid_0's rmse: 0.385121\n",
            "[250]\tvalid_0's rmse: 0.385118\n",
            "[251]\tvalid_0's rmse: 0.385126\n",
            "[252]\tvalid_0's rmse: 0.385129\n",
            "[253]\tvalid_0's rmse: 0.38508\n",
            "[254]\tvalid_0's rmse: 0.385078\n",
            "[255]\tvalid_0's rmse: 0.385076\n",
            "[256]\tvalid_0's rmse: 0.385087\n",
            "[257]\tvalid_0's rmse: 0.385086\n",
            "[258]\tvalid_0's rmse: 0.385089\n",
            "[259]\tvalid_0's rmse: 0.38509\n",
            "[260]\tvalid_0's rmse: 0.385094\n",
            "[261]\tvalid_0's rmse: 0.385099\n",
            "[262]\tvalid_0's rmse: 0.385121\n",
            "[263]\tvalid_0's rmse: 0.385145\n",
            "[264]\tvalid_0's rmse: 0.385158\n",
            "[265]\tvalid_0's rmse: 0.385164\n",
            "[266]\tvalid_0's rmse: 0.385178\n",
            "[267]\tvalid_0's rmse: 0.385195\n",
            "[268]\tvalid_0's rmse: 0.385217\n",
            "[269]\tvalid_0's rmse: 0.385211\n",
            "[270]\tvalid_0's rmse: 0.38521\n",
            "[271]\tvalid_0's rmse: 0.385226\n",
            "[272]\tvalid_0's rmse: 0.385241\n",
            "[273]\tvalid_0's rmse: 0.385221\n",
            "[274]\tvalid_0's rmse: 0.385224\n",
            "[275]\tvalid_0's rmse: 0.385201\n",
            "[276]\tvalid_0's rmse: 0.385197\n",
            "[277]\tvalid_0's rmse: 0.385211\n",
            "[278]\tvalid_0's rmse: 0.385237\n",
            "[279]\tvalid_0's rmse: 0.38525\n",
            "[280]\tvalid_0's rmse: 0.385275\n",
            "[281]\tvalid_0's rmse: 0.385304\n",
            "[282]\tvalid_0's rmse: 0.385305\n",
            "[283]\tvalid_0's rmse: 0.385307\n",
            "[284]\tvalid_0's rmse: 0.385328\n",
            "[285]\tvalid_0's rmse: 0.385351\n",
            "[286]\tvalid_0's rmse: 0.385367\n",
            "Early stopping, best iteration is:\n",
            "[236]\tvalid_0's rmse: 0.384975\n"
          ]
        }
      ]
    },
    {
      "cell_type": "markdown",
      "source": [
        "Saving and Loading Model"
      ],
      "metadata": {
        "id": "thciLkXtaG9X"
      }
    },
    {
      "cell_type": "code",
      "source": [
        "model_lgbm.save_model('lgbmModel.txt', num_iteration=model_lgbm.best_iteration)\n",
        "\n",
        "loadedModel = lgb.Booster(model_file='lgbmModel.txt')"
      ],
      "metadata": {
        "id": "f8W4auGtZsQh"
      },
      "execution_count": 112,
      "outputs": []
    },
    {
      "cell_type": "code",
      "source": [
        "pred = loadedModel.predict(dfTestFeature,  num_iteration = loadedModel.best_iteration)"
      ],
      "metadata": {
        "id": "IvXp5Zb2VW-8"
      },
      "execution_count": 113,
      "outputs": []
    },
    {
      "cell_type": "code",
      "source": [
        "npTestVal = dfTestTarget.to_numpy().flatten()"
      ],
      "metadata": {
        "id": "paI2_Cg1YCJE"
      },
      "execution_count": 114,
      "outputs": []
    },
    {
      "cell_type": "markdown",
      "source": [
        "Calculating RMS Error"
      ],
      "metadata": {
        "id": "2bX1lhY7aLFz"
      }
    },
    {
      "cell_type": "code",
      "source": [
        "from sklearn.metrics import mean_squared_error\n",
        "\n",
        "rms = mean_squared_error(npTestVal, pred, squared=False)\n",
        "print(rms)"
      ],
      "metadata": {
        "colab": {
          "base_uri": "https://localhost:8080/"
        },
        "id": "TEslZIZ1ZW2G",
        "outputId": "8b340147-74f8-41f7-9ca5-b790627265f0"
      },
      "execution_count": 115,
      "outputs": [
        {
          "output_type": "stream",
          "name": "stdout",
          "text": [
            "0.793554760418947\n"
          ]
        }
      ]
    }
  ]
}