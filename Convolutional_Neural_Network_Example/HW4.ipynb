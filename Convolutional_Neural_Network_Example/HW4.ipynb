{
  "nbformat": 4,
  "nbformat_minor": 0,
  "metadata": {
    "colab": {
      "name": "Bahadir_YILDIRIM_HW4.ipynb",
      "provenance": [],
      "collapsed_sections": []
    },
    "kernelspec": {
      "name": "python3",
      "display_name": "Python 3"
    },
    "language_info": {
      "name": "python"
    },
    "accelerator": "GPU"
  },
  "cells": [
    {
      "cell_type": "code",
      "metadata": {
        "id": "O8iQKRYx4P1H"
      },
      "source": [
        "import os\n",
        "import numpy as np\n",
        "import torch\n",
        "import glob\n",
        "import torch.nn as nn\n",
        "from torchvision.transforms import transforms\n",
        "from torch.utils.data import DataLoader\n",
        "from torch.optim import Adam\n",
        "from torch.autograd import Variable\n",
        "import torchvision\n",
        "import pathlib\n",
        "import matplotlib.pyplot as plt\n",
        "import seaborn as sns"
      ],
      "execution_count": 56,
      "outputs": []
    },
    {
      "cell_type": "code",
      "metadata": {
        "colab": {
          "base_uri": "https://localhost:8080/",
          "height": 0
        },
        "id": "ESIIBO3z5A-E",
        "outputId": "2fbe11fe-72d3-4cf3-e2d2-6cf687f38660"
      },
      "source": [
        "# Checking device\n",
        "dev = torch.device('cuda' if torch.cuda.is_available() else 'cpu')\n",
        "print(dev)"
      ],
      "execution_count": 33,
      "outputs": [
        {
          "output_type": "stream",
          "name": "stdout",
          "text": [
            "cuda\n"
          ]
        }
      ]
    },
    {
      "cell_type": "code",
      "metadata": {
        "id": "0m_e1qpn5bUp"
      },
      "source": [
        "# Extracting files\n",
        "from zipfile import ZipFile\n",
        "fileName = \"HW4.zip\"\n",
        "\n",
        "with ZipFile(fileName, 'r') as zip:\n",
        "  zip.extractall()"
      ],
      "execution_count": 34,
      "outputs": []
    },
    {
      "cell_type": "code",
      "metadata": {
        "id": "jLPK4fck5bK_"
      },
      "source": [
        "# Resizing images as same size.\n",
        "transformer = transforms.Compose([transforms.Resize((224, 224)),\n",
        "                                  transforms.RandomHorizontalFlip(),# helps for succesful prediction.\n",
        "                                  transforms.ToTensor(),\n",
        "                                  transforms.Normalize([0.5, 0.5, 0.5], \n",
        "                                                       [0.5, 0.5, 0.5])\n",
        "                                  ]) "
      ],
      "execution_count": 35,
      "outputs": []
    },
    {
      "cell_type": "code",
      "metadata": {
        "id": "U05hBhio5SCL"
      },
      "source": [
        "# Data loading\n",
        "\n",
        "train_path = '/content/CaltechTinySplit/train'\n",
        "test_path = '/content/CaltechTinySplit/test'\n",
        "\n",
        "train_load = DataLoader(torchvision.datasets.ImageFolder(train_path, transform = transformer),\n",
        "                        batch_size = 16, shuffle = True\n",
        "\n",
        "\n",
        ")\n",
        "\n",
        "test_load = DataLoader(torchvision.datasets.ImageFolder(test_path, transform = transformer),\n",
        "                        batch_size = 16, shuffle = True\n",
        "\n",
        "\n",
        ")"
      ],
      "execution_count": 36,
      "outputs": []
    },
    {
      "cell_type": "code",
      "metadata": {
        "colab": {
          "base_uri": "https://localhost:8080/",
          "height": 0
        },
        "id": "nd2MejtYEG3t",
        "outputId": "ba07a0d7-c607-4e23-b0ee-ff445997fd09"
      },
      "source": [
        "root = pathlib.Path(train_path)\n",
        "classes = sorted([j.name.split('/')[-1] for j in root.iterdir()])\n",
        "print(classes)\n",
        "print(len(classes))"
      ],
      "execution_count": 37,
      "outputs": [
        {
          "output_type": "stream",
          "name": "stdout",
          "text": [
            "['Faces', 'Motorbikes', 'camera', 'cannon', 'cellphone', 'flamingo', 'hawksbill', 'ibis', 'pizza']\n",
            "9\n"
          ]
        }
      ]
    },
    {
      "cell_type": "code",
      "metadata": {
        "id": "EWWwsHDzEatS"
      },
      "source": [
        "#CNN Network\n",
        "class ConvNet(nn.Module): # Constructor of class.\n",
        "  def __init__(self, num_classes = len(classes)):\n",
        "    super(ConvNet, self).__init__()\n",
        "    # formula of convulotion\n",
        "    #o = (n + 2*p - f) / s + 1 # n: image height or width p: padding, f: filter size, s: stride\n",
        "    # Conv1 layer input shape = (16, 3, 224, 224) // batchsize, number of channel(RGB), image size\n",
        "    self.conv1 = nn.Conv2d(in_channels = 3, out_channels=64, kernel_size = 3, stride = 1, padding = 1) #conv1\n",
        "\n",
        "    # added\n",
        "    self.bn1 = nn.BatchNorm2d(num_features = 64)\n",
        "    # added\n",
        "    # Conv2 layer input shape = (16, 64, 224, 224)\n",
        "    self.conv2 = nn.Conv2d(in_channels = 64, out_channels=128, kernel_size = 6, stride = 2, padding = 0) #conv2\n",
        "    # Swish activation input layer shape = (16, 128, 110, 110)\n",
        "    self.swish1 = nn.SiLU()\n",
        "    # Max pooling input layer shape = (16, 128, 110, 110)\n",
        "    self.pool1 = nn.MaxPool2d(kernel_size = 2)\n",
        "    # Conv3 input layer shape = (16, 128, 55, 55)\n",
        "    self.conv3 = nn.Conv2d(in_channels = 128, out_channels=256, kernel_size = 4, stride = 1, padding = 0)\n",
        "\n",
        "    # added\n",
        "    self.bn2 = nn.BatchNorm2d(num_features = 256)\n",
        "    # added\n",
        "\n",
        "    # Conv4 input layer shape = (16, 256, 52, 52)\n",
        "    self.conv4 = nn.Conv2d(in_channels = 256, out_channels=512, kernel_size = 6, stride = 1, padding = 0)\n",
        "    # ReLu input layer shape = (16, 512, 47, 47)\n",
        "    self.relu1 = nn.ReLU()\n",
        "    # Conv5 input layer shape = (16, 512, 47, 47)\n",
        "    self.conv5 = nn.Conv2d(in_channels = 512, out_channels=1024, kernel_size = 4, stride = 3, padding = 1)\n",
        "    self.bn3 = nn.BatchNorm2d(num_features = 1024)\n",
        "    # Tanh input layer shape = (16, 1024, 16, 16)\n",
        "    self.tanh1 = nn.Tanh()\n",
        "    # Conv6 input layer shape = (16, 1024, 16, 16)\n",
        "    self.conv6 = nn.Conv2d(in_channels = 1024, out_channels=2048, kernel_size = 3, stride = 3, padding = 1)\n",
        "    # Swish activation input layer shape = (16, 2048, 6, 6)\n",
        "    self.swish2 = nn.SiLU()\n",
        "\n",
        "    self.fc1 = nn.Linear(in_features = 2048*6*6, out_features = 900)\n",
        "\n",
        "    self.fc2 = nn.Linear(in_features = 900, out_features = num_classes)\n",
        "\n",
        "  def forward(self, input):\n",
        "    output = self.conv1(input)\n",
        "    output = self.bn1(output)\n",
        "    output = self.conv2(output)\n",
        "    output = self.swish1(output)\n",
        "    output = self.pool1(output)\n",
        "    output = self.conv3(output)\n",
        "    output = self.bn2(output)\n",
        "    output = self.conv4(output)\n",
        "    output = self.relu1(output)\n",
        "    output = self.conv5(output)\n",
        "    output = self.bn3(output)\n",
        "    output = self.tanh1(output)\n",
        "    output = self.conv6(output)\n",
        "    output = self.swish2(output)\n",
        "\n",
        "    output = output.view(-1, 2048*6*6)\n",
        "    output = self.fc1(output)\n",
        "    output = self.fc2(output)\n",
        "\n",
        "    return output"
      ],
      "execution_count": 38,
      "outputs": []
    },
    {
      "cell_type": "code",
      "metadata": {
        "id": "LFbRVJ_qcTF-"
      },
      "source": [
        "import gc\n",
        "\n",
        "gc.collect()\n",
        "\n",
        "torch.cuda.empty_cache()"
      ],
      "execution_count": 39,
      "outputs": []
    },
    {
      "cell_type": "code",
      "metadata": {
        "id": "_XOrGEeTca_1"
      },
      "source": [
        "model = ConvNet(num_classes = len(classes)).to(dev)"
      ],
      "execution_count": 40,
      "outputs": []
    },
    {
      "cell_type": "code",
      "metadata": {
        "id": "NT4zL0LFckU0"
      },
      "source": [
        "optimizer = Adam(model.parameters(), lr = 0.0001, weight_decay=0.0001)\n",
        "loss_function = nn.CrossEntropyLoss()"
      ],
      "execution_count": 41,
      "outputs": []
    },
    {
      "cell_type": "code",
      "metadata": {
        "id": "LDZCYW_dc4pM"
      },
      "source": [
        "nofEpoch = 20"
      ],
      "execution_count": 42,
      "outputs": []
    },
    {
      "cell_type": "code",
      "metadata": {
        "colab": {
          "base_uri": "https://localhost:8080/",
          "height": 0
        },
        "id": "Cr5lkNqMdAFo",
        "outputId": "99b57cb8-02f9-41a0-c018-4eef4dee10fb"
      },
      "source": [
        "train_count = len(glob.glob(train_path+'/**/*.jpg'))\n",
        "test_count = len(glob.glob(test_path+'/**/*.jpg'))\n",
        "print(train_count)\n",
        "print(test_count)"
      ],
      "execution_count": 43,
      "outputs": [
        {
          "output_type": "stream",
          "name": "stdout",
          "text": [
            "1346\n",
            "174\n"
          ]
        }
      ]
    },
    {
      "cell_type": "code",
      "source": [
        "def updateConfusionMatrix(confMat, nn_o, lbl, b_size):\n",
        "  for i in range(b_size):\n",
        "      confMat[lbl[i]][nn_o[i]] += 1\n",
        "  return confMat"
      ],
      "metadata": {
        "id": "bUTW0iQAMWZw"
      },
      "execution_count": 46,
      "outputs": []
    },
    {
      "cell_type": "code",
      "metadata": {
        "id": "0hkUGH9GdS2_",
        "colab": {
          "base_uri": "https://localhost:8080/",
          "height": 0
        },
        "outputId": "afb12edf-0a54-40ae-b2be-55478566560c"
      },
      "source": [
        "best_accuracy = 0.0\n",
        "confMat = np.zeros((len(classes), len(classes)))\n",
        "for epoch in range(nofEpoch):\n",
        "  model.train()\n",
        "  train_accuracy = 0.0\n",
        "  train_loss = 0.0\n",
        "  for i, (images,labels) in enumerate(train_load):\n",
        "    if(torch.cuda.is_available()):\n",
        "      images = Variable(images.cuda())\n",
        "      labels = Variable(labels.cuda())\n",
        "    optimizer.zero_grad()\n",
        "\n",
        "    outputs = model(images) # gives the prediction\n",
        "\n",
        "    dummy, indx = torch.max(outputs.data, 1)\n",
        "    confMat = updateConfusionMatrix(confMat, indx, labels, indx.size(dim=0))\n",
        "    loss = loss_function(outputs, labels)\n",
        "    loss.backward()\n",
        "    optimizer.step()\n",
        "\n",
        "    train_loss += loss.cpu().data*images.size(0)\n",
        "    _, prediction = torch.max(outputs.data, 1)\n",
        "\n",
        "    train_accuracy += int(torch.sum(prediction == labels.data))\n",
        "  train_accuracy = train_accuracy/train_count\n",
        "  train_loss = train_loss/train_count\n",
        "\n",
        "  model.eval()\n",
        "  test_accuracy = 0.0\n",
        "  for i, (images,labels) in enumerate(test_load):\n",
        "    if(torch.cuda.is_available()):\n",
        "      images = Variable(images.cuda())\n",
        "      labels = Variable(labels.cuda())\n",
        "    outputs = model(images)\n",
        "    _, prediction = torch.max(outputs.data, 1)\n",
        "    test_accuracy += int(torch.sum(prediction == labels.data))\n",
        "  test_accuracy = test_accuracy / test_count\n",
        "\n",
        "  print('Epoch: ' + str(epoch) + ' Train Loss: ' + str(int(train_loss)) + ' Train Accuracy: ' + str(train_accuracy) + ' Test Accuracy: ' + str(test_accuracy))\n",
        "  if test_accuracy > best_accuracy:\n",
        "    torch.save(model.state_dict(), 'best_checkpoint.mod')\n",
        "    best_accuracy = test_accuracy"
      ],
      "execution_count": 49,
      "outputs": [
        {
          "output_type": "stream",
          "name": "stdout",
          "text": [
            "Epoch: 0 Train Loss: 0 Train Accuracy: 0.8848439821693908 Test Accuracy: 0.8218390804597702\n",
            "Epoch: 1 Train Loss: 0 Train Accuracy: 0.8937592867756315 Test Accuracy: 0.8908045977011494\n",
            "Epoch: 2 Train Loss: 0 Train Accuracy: 0.9197622585438335 Test Accuracy: 0.8793103448275862\n",
            "Epoch: 3 Train Loss: 0 Train Accuracy: 0.937592867756315 Test Accuracy: 0.9137931034482759\n",
            "Epoch: 4 Train Loss: 0 Train Accuracy: 0.9286775631500743 Test Accuracy: 0.9022988505747126\n",
            "Epoch: 5 Train Loss: 0 Train Accuracy: 0.937592867756315 Test Accuracy: 0.8563218390804598\n",
            "Epoch: 6 Train Loss: 0 Train Accuracy: 0.899702823179792 Test Accuracy: 0.7988505747126436\n",
            "Epoch: 7 Train Loss: 0 Train Accuracy: 0.9294205052005944 Test Accuracy: 0.8620689655172413\n",
            "Epoch: 8 Train Loss: 0 Train Accuracy: 0.9606240713224369 Test Accuracy: 0.8908045977011494\n",
            "Epoch: 9 Train Loss: 0 Train Accuracy: 0.9665676077265973 Test Accuracy: 0.8620689655172413\n",
            "Epoch: 10 Train Loss: 0 Train Accuracy: 0.9643387815750372 Test Accuracy: 0.9137931034482759\n",
            "Epoch: 11 Train Loss: 0 Train Accuracy: 0.975482912332838 Test Accuracy: 0.8908045977011494\n",
            "Epoch: 12 Train Loss: 0 Train Accuracy: 0.9806835066864784 Test Accuracy: 0.8620689655172413\n",
            "Epoch: 13 Train Loss: 0 Train Accuracy: 0.9829123328380386 Test Accuracy: 0.9310344827586207\n",
            "Epoch: 14 Train Loss: 0 Train Accuracy: 0.9821693907875185 Test Accuracy: 0.9022988505747126\n",
            "Epoch: 15 Train Loss: 0 Train Accuracy: 0.9227340267459139 Test Accuracy: 0.8390804597701149\n",
            "Epoch: 16 Train Loss: 1 Train Accuracy: 0.9026745913818722 Test Accuracy: 0.9022988505747126\n",
            "Epoch: 17 Train Loss: 0 Train Accuracy: 0.9472511144130757 Test Accuracy: 0.9080459770114943\n",
            "Epoch: 18 Train Loss: 0 Train Accuracy: 0.9695393759286776 Test Accuracy: 0.8908045977011494\n",
            "Epoch: 19 Train Loss: 0 Train Accuracy: 0.9829123328380386 Test Accuracy: 0.9080459770114943\n"
          ]
        }
      ]
    },
    {
      "cell_type": "code",
      "source": [
        "# Loading validation data\n",
        "valid_path = '/content/CaltechTinySplit/val'\n",
        "\n",
        "valid_load = DataLoader(torchvision.datasets.ImageFolder(valid_path, transform = transformer),\n",
        "                        batch_size = 16, shuffle = True)\n",
        "valid_count = len(glob.glob(valid_path+'/**/*.jpg'))\n",
        "print(valid_count)"
      ],
      "metadata": {
        "colab": {
          "base_uri": "https://localhost:8080/",
          "height": 0
        },
        "id": "0dLHrGXgQzfv",
        "outputId": "2d3407cc-d99d-4136-abde-3c44bcc08b93"
      },
      "execution_count": 76,
      "outputs": [
        {
          "output_type": "stream",
          "name": "stdout",
          "text": [
            "165\n"
          ]
        }
      ]
    },
    {
      "cell_type": "code",
      "source": [
        "# loading model and testing by validation data\n",
        "modelNew = ConvNet(num_classes = len(classes)).to(dev)\n",
        "modelNew.load_state_dict(torch.load('/content/best_checkpoint.mod'))\n",
        "modelNew.eval()\n",
        "\n",
        "valid_accuracy = 0.0\n",
        "for i, (images,labels) in enumerate(valid_load):\n",
        "  if(torch.cuda.is_available()):\n",
        "    images = Variable(images.cuda())\n",
        "    labels = Variable(labels.cuda())\n",
        "  outputs = modelNew(images)\n",
        "  _, prediction = torch.max(outputs.data, 1)\n",
        "  valid_accuracy += int(torch.sum(prediction == labels.data))\n",
        "valid_accuracy = valid_accuracy / valid_count\n",
        "print('Validation Accuracy: ' + str(valid_accuracy))"
      ],
      "metadata": {
        "colab": {
          "base_uri": "https://localhost:8080/",
          "height": 0
        },
        "id": "J-yh4GV0SWw9",
        "outputId": "cd3af20a-de34-49c7-b157-a8f2f9cf4209"
      },
      "execution_count": 77,
      "outputs": [
        {
          "output_type": "stream",
          "name": "stdout",
          "text": [
            "Validation Accuracy: 0.8727272727272727\n"
          ]
        }
      ]
    },
    {
      "cell_type": "code",
      "source": [
        "# Plotting confusion matrix\n",
        "names = (\"Faces\", \"Motorbikes\", \"camera\", \"cannon\", \"cellphone\", \"flamingo\", \"hawksbill\", \"ibis\", \"pizza\")\n",
        "plt.figure(figsize = (len(classes), len(classes)))\n",
        "ax = sns.heatmap(confMat, linewidth=3, annot= True)\n",
        "plt.xlabel(names)\n",
        "plt.ylabel(tuple(reversed(names)))\n",
        "plt.title('Confusion Matrix')\n",
        "plt.show()"
      ],
      "metadata": {
        "colab": {
          "base_uri": "https://localhost:8080/",
          "height": 567
        },
        "id": "eXK7J92M_tJN",
        "outputId": "fbb41980-08de-4c6a-8d6f-1ca5659ea636"
      },
      "execution_count": 78,
      "outputs": [
        {
          "output_type": "display_data",
          "data": {
            "image/png": "[encoded data removed]",
            "text/plain": [
              "<Figure size 648x648 with 2 Axes>"
            ]
          },
          "metadata": {
            "needs_background": "light"
          }
        }
      ]
    }
  ]
}