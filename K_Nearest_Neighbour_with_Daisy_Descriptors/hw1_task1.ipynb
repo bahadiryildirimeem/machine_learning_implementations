{
  "nbformat": 4,
  "nbformat_minor": 0,
  "metadata": {
    "colab": {
      "name": "hw1_task1.ipynb",
      "provenance": [],
      "collapsed_sections": []
    },
    "kernelspec": {
      "name": "python3",
      "display_name": "Python 3"
    },
    "language_info": {
      "name": "python"
    }
  },
  "cells": [
    {
      "cell_type": "code",
      "metadata": {
        "id": "ej9vMuOz4Kiu"
      },
      "source": [
        "import numpy as np\n",
        "import skimage\n",
        "from skimage.feature import daisy\n",
        "from skimage import data\n",
        "from skimage.transform import resize\n",
        "from skimage.transform import rescale\n",
        "import matplotlib.pyplot as plt\n",
        "import os\n",
        "from skimage import io\n",
        "from natsort import natsorted, ns"
      ],
      "execution_count": 4,
      "outputs": []
    },
    {
      "cell_type": "code",
      "metadata": {
        "id": "dGEGnF4cCgGa"
      },
      "source": [
        "from zipfile import ZipFile\n",
        "fileName = \"HW1.zip\"\n",
        "\n",
        "with ZipFile(fileName, 'r') as zip:\n",
        "  zip.extractall()"
      ],
      "execution_count": 5,
      "outputs": []
    },
    {
      "cell_type": "code",
      "metadata": {
        "id": "y4b_uutM5Lu2"
      },
      "source": [
        "# Listing images\n",
        "buttteryFlyList = os.listdir('/content/train/butterfly')\n",
        "chairList = os.listdir('/content/train/chair')\n",
        "laptopList = os.listdir('/content/train/laptop')\n",
        "\n",
        "buttteryFlyList = natsorted(buttteryFlyList)\n",
        "chairList = natsorted(chairList)\n",
        "laptopList = natsorted(laptopList)\n",
        "\n",
        "nofClasses = 3\n",
        "classNames = ['butterfly', 'chair', 'laptop']"
      ],
      "execution_count": 6,
      "outputs": []
    },
    {
      "cell_type": "code",
      "metadata": {
        "id": "LZMFLIjgDe0_"
      },
      "source": [
        "# Reading images\n",
        "butterflyImList = []\n",
        "chairImList = []\n",
        "laptopImList = []\n",
        "\n",
        "# Butterfly images\n",
        "for i in buttteryFlyList:\n",
        "  directory = '/content/train/butterfly/' + i\n",
        "  if i != '.ipynb_checkpoints' and i != 'Thumbs.db':\n",
        "    tempIm = io.imread(directory, as_gray = True)\n",
        "    tempIm = resize(tempIm, (256, 256))\n",
        "    butterflyImList.append(tempIm)\n",
        "\n",
        "for i in chairList:\n",
        "  directory = '/content/train/chair/' + i\n",
        "  if i != '.ipynb_checkpoints' and i != 'Thumbs.db':\n",
        "    tempIm = io.imread(directory, as_gray = True)\n",
        "    tempIm = resize(tempIm, (256, 256))\n",
        "    chairImList.append(tempIm)\n",
        "\n",
        "\n",
        "for i in laptopList:\n",
        "  directory = '/content/train/laptop/' + i\n",
        "  if i != '.ipynb_checkpoints' and i != 'Thumbs.db':\n",
        "    tempIm = io.imread(directory, as_gray = True)\n",
        "    tempIm = resize(tempIm, (256, 256))\n",
        "    laptopImList.append(tempIm)"
      ],
      "execution_count": 7,
      "outputs": []
    },
    {
      "cell_type": "code",
      "metadata": {
        "id": "L7Okw0IHlWUQ"
      },
      "source": [
        "# DAISY parameters\n",
        "nofStep = 180\n",
        "radiusVal = 58\n",
        "nofRing = 2\n",
        "nofHistogram = 16\n",
        "nofOrientations = 8\n"
      ],
      "execution_count": 8,
      "outputs": []
    },
    {
      "cell_type": "code",
      "metadata": {
        "id": "PHLrg_MQRaDA"
      },
      "source": [
        "# Using descriptor to extract features of butterfly images \n",
        "index = 0;\n",
        "butterflyFeatures = []\n",
        "butteryflyLabels = []\n",
        "for i in butterflyImList:\n",
        "  descs = daisy(butterflyImList[index], step=nofStep, radius=radiusVal, rings=nofRing, histograms=nofHistogram, orientations=nofOrientations, visualize=False)\n",
        "  butterflyFeatures.append(descs);\n",
        "  butteryflyLabels.append('butterfly')\n",
        "  #print(butterflyFeatures[index].size)\n",
        "  index = index + 1\n",
        "  \n"
      ],
      "execution_count": 9,
      "outputs": []
    },
    {
      "cell_type": "code",
      "metadata": {
        "id": "pRn3Rf2Zk2SM"
      },
      "source": [
        "# Using descriptor to extract features of chair images \n",
        "index = 0;\n",
        "chairFeatures = []\n",
        "chairLabels = []\n",
        "for i in chairImList:\n",
        "  descs = daisy(chairImList[index], step=nofStep, radius=radiusVal, rings=nofRing, histograms=nofHistogram, orientations=nofOrientations, visualize=False)\n",
        "  chairFeatures.append(descs);\n",
        "  chairLabels.append('chair')\n",
        "  #print(chairFeatures[index].size)\n",
        "  index = index + 1"
      ],
      "execution_count": 10,
      "outputs": []
    },
    {
      "cell_type": "code",
      "metadata": {
        "id": "2MLdw-4_mLg4"
      },
      "source": [
        "# Using descriptor to extract features of laptop images \n",
        "index = 0;\n",
        "laptopFeatures = []\n",
        "laptopLabels = []\n",
        "for i in laptopImList:\n",
        "  descs = daisy(laptopImList[index], step=nofStep, radius=radiusVal, rings=nofRing, histograms=nofHistogram, orientations=nofOrientations, visualize=False)\n",
        "  laptopFeatures.append(descs);\n",
        "  laptopLabels.append('laptop')\n",
        "  #print(chairFeatures[index].size)\n",
        "  index = index + 1"
      ],
      "execution_count": 11,
      "outputs": []
    },
    {
      "cell_type": "code",
      "metadata": {
        "id": "uEAUynE5el5E"
      },
      "source": [
        "# Combining features and labels.\n",
        "combinedFeatures = [*butterflyFeatures, *chairFeatures, *laptopFeatures]\n",
        "combineLabels = [*butteryflyLabels, *chairLabels, *laptopLabels]"
      ],
      "execution_count": 12,
      "outputs": []
    },
    {
      "cell_type": "code",
      "metadata": {
        "id": "HMIKkOc1trlP"
      },
      "source": [
        "# Defining KNN function with minkowski distance.\n",
        "def KNN(x_train, y_train, sample_test, k ):\n",
        "  counter = 0\n",
        "  minVal = 99999;\n",
        "  for i in x_train:\n",
        "    if minVal > x_train[counter].size:\n",
        "      minVal = x_train[counter].size\n",
        "    counter = counter + 1\n",
        "  if minVal > sample_test.size:\n",
        "    minVal = sample_test.size\n",
        "  distances = []\n",
        "  indexImg = 0;\n",
        "  q = 3\n",
        "  for i in range(len(x_train)- 1):\n",
        "    totalDist = 0\n",
        "    indexFeature = 0;\n",
        "    for j in range(minVal - 1):\n",
        "      tempDist = 0\n",
        "      tempDist = abs(x_train[indexImg][0][0][indexFeature] - sample_test[0][0][indexFeature])**q\n",
        "      totalDist = totalDist + tempDist\n",
        "      indexFeature = indexFeature + 1\n",
        "    distances.append(pow(totalDist, 1/q))\n",
        "    indexImg = indexImg + 1;\n",
        "\n",
        "  sortedDistances = sorted(distances)\n",
        "  index = []\n",
        "  classifiedLabels = []\n",
        "  counter = 0\n",
        "  for i in range(k):\n",
        "    index.append(distances.index(sortedDistances[counter]))\n",
        "    classifiedLabels.append(y_train[distances.index(sortedDistances[counter])])\n",
        "    counter = counter + 1\n",
        "  # print(index)\n",
        "  # print(classifiedLabels)\n",
        "  \n",
        "  counter = 0\n",
        "  classifierVote = np.full((1, nofClasses), 0)\n",
        "  for i in range(k):\n",
        "    classifierVote[0][classNames.index(classifiedLabels[counter])] = classifierVote[0][classNames.index(classifiedLabels[counter])] + 1\n",
        "    counter = counter + 1\n",
        "  # print(classifierVote)\n",
        "  # result = sorted(classifierVote, reverse=False)\n",
        "  maxVal = np.max(classifierVote)\n",
        "  result = np.where(classifierVote == maxVal)\n",
        "  print(classNames[int(result[1])])"
      ],
      "execution_count": 96,
      "outputs": []
    },
    {
      "cell_type": "code",
      "metadata": {
        "colab": {
          "base_uri": "https://localhost:8080/"
        },
        "id": "4308CEnr0yvS",
        "outputId": "0e0c1ef4-0c78-44f4-efeb-cd39c423646d"
      },
      "source": [
        "# Reading test image\n",
        "testIm = io.imread('/content/test/image_0001.jpg', as_gray = True)\n",
        "testIm = resize(testIm, (256, 256))\n",
        "# Extracting Feactures\n",
        "testFeatures = daisy(testIm, step=nofStep, radius=radiusVal, rings=nofRing, histograms=nofHistogram, orientations=nofOrientations, visualize=False)\n",
        "# Testing the Function\n",
        "KNN(combinedFeatures, combineLabels, testFeatures, 7)"
      ],
      "execution_count": 97,
      "outputs": [
        {
          "output_type": "stream",
          "name": "stdout",
          "text": [
            "chair\n"
          ]
        }
      ]
    },
    {
      "cell_type": "code",
      "metadata": {
        "colab": {
          "base_uri": "https://localhost:8080/"
        },
        "id": "Ck760lknIC4e",
        "outputId": "a66d0ad2-fb71-417d-8121-e661a995b23c"
      },
      "source": [
        "# Reading test image\n",
        "testIm = io.imread('/content/test/image_0007.jpg', as_gray = True)\n",
        "testIm = resize(testIm, (256, 256))\n",
        "# Extracting Feactures\n",
        "testFeatures = daisy(testIm, step=nofStep, radius=radiusVal, rings=nofRing, histograms=nofHistogram, orientations=nofOrientations, visualize=False)\n",
        "# Testing the Function\n",
        "KNN(combinedFeatures, combineLabels, testFeatures, 7)"
      ],
      "execution_count": 98,
      "outputs": [
        {
          "output_type": "stream",
          "name": "stdout",
          "text": [
            "laptop\n"
          ]
        }
      ]
    },
    {
      "cell_type": "code",
      "metadata": {
        "colab": {
          "base_uri": "https://localhost:8080/"
        },
        "id": "r1IYnpB7I3cB",
        "outputId": "a24a11bf-f9f1-4244-8e72-6bc950b54955"
      },
      "source": [
        "# Reading test image\n",
        "testIm = io.imread('/content/test/image_0008.jpg', as_gray = True)\n",
        "testIm = resize(testIm, (256, 256))\n",
        "# Extracting Feactures\n",
        "testFeatures = daisy(testIm, step=nofStep, radius=radiusVal, rings=nofRing, histograms=nofHistogram, orientations=nofOrientations, visualize=False)\n",
        "# Testing the Function\n",
        "KNN(combinedFeatures, combineLabels, testFeatures, 7)"
      ],
      "execution_count": 99,
      "outputs": [
        {
          "output_type": "stream",
          "name": "stdout",
          "text": [
            "chair\n"
          ]
        }
      ]
    },
    {
      "cell_type": "code",
      "metadata": {
        "colab": {
          "base_uri": "https://localhost:8080/"
        },
        "id": "HPB9iNhHI3C8",
        "outputId": "a9374da3-1f45-4677-fabf-b0d04e395d49"
      },
      "source": [
        "# Reading test image\n",
        "testIm = io.imread('/content/test/image_0010.jpg', as_gray = True)\n",
        "testIm = resize(testIm, (256, 256))\n",
        "# Extracting Feactures\n",
        "testFeatures = daisy(testIm, step=nofStep, radius=radiusVal, rings=nofRing, histograms=nofHistogram, orientations=nofOrientations, visualize=False)\n",
        "# Testing the Function\n",
        "KNN(combinedFeatures, combineLabels, testFeatures, 7)"
      ],
      "execution_count": 100,
      "outputs": [
        {
          "output_type": "stream",
          "name": "stdout",
          "text": [
            "butterfly\n"
          ]
        }
      ]
    },
    {
      "cell_type": "code",
      "metadata": {
        "colab": {
          "base_uri": "https://localhost:8080/"
        },
        "id": "ZjRIP5PyOBJA",
        "outputId": "b6bf76b5-1d7d-46dc-9f88-8eb61bfa2db1"
      },
      "source": [
        "# Reading test image\n",
        "testIm = io.imread('/content/test/image_0013.jpg', as_gray = True)\n",
        "testIm = resize(testIm, (256, 256))\n",
        "# Extracting Feactures\n",
        "testFeatures = daisy(testIm, step=nofStep, radius=radiusVal, rings=nofRing, histograms=nofHistogram, orientations=nofOrientations, visualize=False)\n",
        "# Testing the Function\n",
        "KNN(combinedFeatures, combineLabels, testFeatures, 7)"
      ],
      "execution_count": 101,
      "outputs": [
        {
          "output_type": "stream",
          "name": "stdout",
          "text": [
            "chair\n"
          ]
        }
      ]
    },
    {
      "cell_type": "code",
      "metadata": {
        "colab": {
          "base_uri": "https://localhost:8080/"
        },
        "id": "gxTLOomdOKmW",
        "outputId": "834ccb70-1738-402d-ee92-1388702b5ccd"
      },
      "source": [
        "# Reading test image\n",
        "testIm = io.imread('/content/test/image_0014.jpg', as_gray = True)\n",
        "testIm = resize(testIm, (256, 256))\n",
        "# Extracting Feactures\n",
        "testFeatures = daisy(testIm, step=nofStep, radius=radiusVal, rings=nofRing, histograms=nofHistogram, orientations=nofOrientations, visualize=False)\n",
        "# Testing the Function\n",
        "KNN(combinedFeatures, combineLabels, testFeatures, 7)"
      ],
      "execution_count": 102,
      "outputs": [
        {
          "output_type": "stream",
          "name": "stdout",
          "text": [
            "laptop\n"
          ]
        }
      ]
    },
    {
      "cell_type": "code",
      "metadata": {
        "colab": {
          "base_uri": "https://localhost:8080/"
        },
        "id": "34hyZBJ3OKZV",
        "outputId": "12a1d71d-035c-49b2-b984-c95eb8be3354"
      },
      "source": [
        "# Reading test image\n",
        "testIm = io.imread('/content/test/image_0031.jpg', as_gray = True)\n",
        "testIm = resize(testIm, (256, 256))\n",
        "# Extracting Feactures\n",
        "testFeatures = daisy(testIm, step=nofStep, radius=radiusVal, rings=nofRing, histograms=nofHistogram, orientations=nofOrientations, visualize=False)\n",
        "# Testing the Function\n",
        "KNN(combinedFeatures, combineLabels, testFeatures, 7)"
      ],
      "execution_count": 103,
      "outputs": [
        {
          "output_type": "stream",
          "name": "stdout",
          "text": [
            "butterfly\n"
          ]
        }
      ]
    },
    {
      "cell_type": "code",
      "metadata": {
        "colab": {
          "base_uri": "https://localhost:8080/"
        },
        "id": "6aIKXD8sOS0P",
        "outputId": "abd84cf7-df3b-459d-fd5b-d66726cf0f26"
      },
      "source": [
        "# Reading test image\n",
        "testIm = io.imread('/content/test/image_0073.jpg', as_gray = True)\n",
        "testIm = resize(testIm, (256, 256))\n",
        "# Extracting Feactures\n",
        "testFeatures = daisy(testIm, step=nofStep, radius=radiusVal, rings=nofRing, histograms=nofHistogram, orientations=nofOrientations, visualize=False)\n",
        "# Testing the Function\n",
        "KNN(combinedFeatures, combineLabels, testFeatures, 7)"
      ],
      "execution_count": 104,
      "outputs": [
        {
          "output_type": "stream",
          "name": "stdout",
          "text": [
            "laptop\n"
          ]
        }
      ]
    },
    {
      "cell_type": "code",
      "metadata": {
        "colab": {
          "base_uri": "https://localhost:8080/"
        },
        "id": "GobaIjctOSpY",
        "outputId": "d0a36e20-c3bc-419b-cac5-4d6f2bb415ed"
      },
      "source": [
        "# Reading test image\n",
        "testIm = io.imread('/content/test/image_0074.jpg', as_gray = True)\n",
        "testIm = resize(testIm, (256, 256))\n",
        "# Extracting Feactures\n",
        "testFeatures = daisy(testIm, step=nofStep, radius=radiusVal, rings=nofRing, histograms=nofHistogram, orientations=nofOrientations, visualize=False)\n",
        "# Testing the Function\n",
        "KNN(combinedFeatures, combineLabels, testFeatures, 7)"
      ],
      "execution_count": 105,
      "outputs": [
        {
          "output_type": "stream",
          "name": "stdout",
          "text": [
            "laptop\n"
          ]
        }
      ]
    }
  ]
}